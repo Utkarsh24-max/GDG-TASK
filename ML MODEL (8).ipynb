{
 "cells": [
  {
   "cell_type": "markdown",
   "id": "6f86a0f2-b3eb-4d8c-80bd-5cfee54cbe23",
   "metadata": {},
   "source": [
    "The uploaded file details a machine learning project that classifies a developer's role based on their Git commit data. The process includes data preparation, feature engineering, and training several classification models.\n",
    "### Data Preprocessing and Feature Engineering\n",
    "The initial steps focus on converting raw data into a numerical format suitable for machine learning models.\n",
    "\n",
    "* *Handling Categorical Features: The file extensions and commit-related timestamps are processed. The fileextensions column, which contains lists of file types, is transformed into a binary matrix using MultiLabelBinarizer after the train-test split. This creates new columns for each unique file type, with a '1' indicating its presence and a '0' its absence. The timeofcommit column is first separated into day and time, then the time is categorized into \"Morning\", \"Afternoon\", \"Evening\", and \"Night\". The day, time, and committype columns are then converted into numerical features using **one-hot encoding*.\n",
    "\n",
    "* *Text Processing for Commit Messages*: The commitmessage text is cleaned and prepared for analysis. A custom preprocess_text function performs several steps:\n",
    "    1.  *Lowercasing*: All text is converted to lowercase to ensure consistency.\n",
    "    2.  *Punctuation Removal*: Punctuation is removed to focus only on words.\n",
    "    3.  *Stopword Removal*: Common English words (e.g., \"a\", \"the\") are removed because they don't provide significant meaning for classification.\n",
    "    4.  *Stemming*: The PorterStemmer algorithm reduces words to their root form (e.g., \"running\" becomes \"run\"), which helps consolidate similar terms.\n",
    "\n",
    "* *Text Embeddings: The cleaned text from commitmessage is converted into numerical vectors using **TF-IDF (Term Frequency-Inverse Document Frequency)*. This method assigns a weight to each word based on how frequently it appears in a document versus how rare it is across all documents. Words that are unique to a specific document are given higher importance. The resulting sparse matrix is then used as features for the models.\n",
    "*\n",
    "### Model Selection and Evaluation\n",
    "\n",
    "The notebook evaluates three different classification models, starting with a baseline and progressively introducing more complex methods. The primary metrics used are *accuracy* and *macro F1 score*. Accuracy measures the proportion of correct predictions, while the macro F1 score provides an unweighted average of the F1 score for each class, which is a good indicator of performance across all roles, especially if the dataset is imbalanced.\n",
    "\n",
    "#### 1. Baseline Model: Logistic Regression\n",
    "* *Rationale: Logistic Regression, particularly its **Softmax Regression* variant for multi-class problems, was chosen as the baseline due to its simplicity and effectiveness for linear classification problems.\n",
    "* *Performance*: The model achieved an accuracy of 0.94 and a macro F1 score of 0.9305. The author noted this as a \"decent accuracy\" and a good starting point for comparison.\n",
    "\n",
    "#### 2. Experimentation: Decision Tree Classifier\n",
    "* *Rationale*: The author initially hypothesized that a non-linear model like a Decision Tree would perform better than logistic regression because it could capture more complex relationships in the data.\n",
    "* *Performance (Initial)*: Without hyperparameter tuning, the Decision Tree Classifier performed exactly the same as the Logistic Regression model, with an accuracy of 0.94 and a macro F1 score of 0.9305. The author noted that the model was \"performing exactly same as logistic regression\".\n",
    "* *Hyperparameter Tuning*: To improve the Decision Tree's performance, the author used GridSearchCV to find the optimal hyperparameters. The search space included different criteria (gini, entropy, log_loss), max_depth, min_samples_split, min_samples_leaf, and max_features.\n",
    "* *Performance (Tuned)*: After tuning, the Decision Tree's performance improved significantly, reaching an accuracy of 0.9667 and a macro F1 score of 0.9635. The best parameters found were {'criterion': 'entropy', 'max_depth': None, 'max_features': None, 'min_samples_leaf': 2, 'min_samples_split': 5}. This demonstrates that tuning is crucial for getting the best performance out of a model.\n",
    "\n",
    "#### 3. Advanced Model: Random Forest Classifier\n",
    "* *Rationale: As an improvement on the single Decision Tree, a Random Forest was introduced. This is an **ensemble learning* model that combines multiple decision trees. The author's comment explains the key insight: Random Forests use *bagging* (Bootstrap Aggregating) to reduce *variance*. The author notes that the problem seems to be one of \"variance, not bias,\" suggesting that individual decision trees might be overfitting to the training data. By combining many of these trees, a Random Forest can create a more robust and generalized model that is less prone to overfitting.\n",
    "* *Performance*: The Random Forest Classifier achieved the highest scores of all the models, with an accuracy of 0.9733 and a macro F1 score of 0.9694. This confirms the author's hypothesis that an ensemble method is a better choice for this dataset."
   ]
  },
  {
   "cell_type": "code",
   "execution_count": null,
   "id": "2cfe702f-a89d-403a-af99-d626b0c39380",
   "metadata": {},
   "outputs": [],
   "source": [
    "import pandas as pd\n",
    "import numpy as np\n",
    "from sklearn.model_selection import train_test_split\n",
    "from sklearn.preprocessing import MultiLabelBinarizer\n",
    "from sklearn.feature_extraction.text import TfidfVectorizer\n",
    "from sklearn.linear_model import LogisticRegression\n",
    "from sklearn.ensemble import RandomForestClassifier\n",
    "from sklearn.tree import DecisionTreeClassifier\n",
    "from sklearn.model_selection import GridSearchCV\n",
    "from sklearn.metrics import accuracy_score, f1_score"
   ]
  },
  {
   "cell_type": "code",
   "execution_count": 82,
   "id": "bdedc9aa-e65f-4d9e-bb31-30d5245ceee8",
   "metadata": {},
   "outputs": [],
   "source": [
    "# load data\n",
    "df = pd.read_csv('final_dataset.csv').drop(columns=['index'])"
   ]
  },
  {
   "cell_type": "code",
   "execution_count": 83,
   "id": "91eabfb3-4349-440a-b171-706ff6f4ef05",
   "metadata": {},
   "outputs": [],
   "source": [
    "# Function to extract file extensions\n",
    "def extract_file_extensions(text):\n",
    "    result = [str(x) for x in eval(text)]\n",
    "    result = list(set(result))\n",
    "    return result\n",
    "df[\"fileextensions\"] = df[\"fileextensions\"].apply(extract_file_extensions)"
   ]
  },
  {
   "cell_type": "code",
   "execution_count": 84,
   "id": "c72a33d1-f3b2-4910-835b-e4b75ba1ba65",
   "metadata": {},
   "outputs": [
    {
     "name": "stdout",
     "output_type": "stream",
     "text": [
      "['js_ts', 'css', 'html', 'py', 'test_py', 'java_go', 'test_js', 'md', 'sql', 'yml_json']\n"
     ]
    }
   ],
   "source": [
    "# getting the unique files\n",
    "unique_files = []\n",
    "\n",
    "for row in df[\"fileextensions\"]:\n",
    "    for ext in row:\n",
    "        if ext not in unique_files:\n",
    "            unique_files.append(ext)\n",
    "\n",
    "print(unique_files)"
   ]
  },
  {
   "cell_type": "code",
   "execution_count": 85,
   "id": "a4247c65-b2bb-41cc-8060-875cb10c3b42",
   "metadata": {},
   "outputs": [],
   "source": [
    "# Function to split into (day, time)\n",
    "def extract_dat(text):\n",
    "    '''\n",
    "    The 'timeofcommit' column contains both day and time together as a string.\n",
    "    Example: \"Monday 12:30\"\n",
    "    We split this string into two parts:\n",
    "    - lst[0] → Day  (e.g., Monday)\n",
    "    - lst[1] → Time (e.g., 12:30)\n",
    "    '''\n",
    "    lst = text.split(\" \")\n",
    "    return (lst[0], lst[1])\n",
    "\n",
    "# Apply function → gives tuple (day, time)\n",
    "df['timeofcommit'] = df['timeofcommit'].apply(extract_dat)\n",
    "\n",
    "'''\n",
    "After applying the function, each entry in 'timeofcommit' becomes a tuple:\n",
    "   (\"Day\", \"Time\")\n",
    "This makes it easier to separate them into individual columns.\n",
    "'''\n",
    "\n",
    "# Separate into lists\n",
    "day = []\n",
    "time = []\n",
    "for i in df['timeofcommit']:\n",
    "    '''\n",
    "    Iterating through each tuple in 'timeofcommit' and storing\n",
    "    the first element (day) and the second element (time) separately.\n",
    "    '''\n",
    "    day.append(i[0])\n",
    "    time.append(i[1])\n",
    "    # Create new DataFrame with split columns\n",
    "extract_df = pd.DataFrame({'day': day, 'time': time})\n",
    "\n",
    "'''\n",
    "Now we have a new DataFrame 'extract_df' with two clear columns:\n",
    "- 'day'\n",
    "- 'time'\n",
    "'''\n",
    "\n",
    "# Concatenate with original df\n",
    "df = pd.concat([df, extract_df], axis=1)\n",
    "\n",
    "# Drop old column\n",
    "df = df.drop(columns='timeofcommit')\n",
    "\n",
    "\n",
    "#Finally, we:\n",
    "#1. Concatenate 'day' and 'time' columns back into the original DataFrame.\n",
    "#2. Drop the old 'timeofcommit' column since it's no longer needed.\n",
    "\n",
    "# df.head()"
   ]
  },
  {
   "cell_type": "code",
   "execution_count": 86,
   "id": "035267e3-5e54-4fca-a9db-62043aef499c",
   "metadata": {},
   "outputs": [],
   "source": [
    "# function to categorize time\n",
    "def get_time_category(t):\n",
    "    if pd.isna(t):\n",
    "        return \"Unknown\"\n",
    "    hour = int(str(t).split(\":\")[0])\n",
    "    if 6 <= hour < 12:\n",
    "        return \"Morning\"\n",
    "    elif 12 <= hour < 18:\n",
    "        return \"Afternoon\"\n",
    "    elif 18 <= hour < 22:\n",
    "        return \"Evening\"\n",
    "    else:\n",
    "        return \"Night\"\n",
    "\n",
    "# Replace time column with categories\n",
    "df[\"time\"] = df[\"time\"].apply(get_time_category)\n",
    "\n",
    "# df.head()"
   ]
  },
  {
   "cell_type": "code",
   "execution_count": 87,
   "id": "d7ac3b59-b189-4edc-afba-9b5593dcc800",
   "metadata": {},
   "outputs": [],
   "source": [
    "## since we have more than one category in each row so using multilabelbinarizer after train test split"
   ]
  },
  {
   "cell_type": "code",
   "execution_count": 88,
   "id": "d67b604c-4799-436b-bf59-98da7fd5865e",
   "metadata": {},
   "outputs": [],
   "source": [
    "# processing file extensions\n",
    "# Example: assume df is your dataframe and 'role' is your target column\n",
    "x = df.drop(columns=['role'])   # features\n",
    "y = df['role']                  # target\n",
    "\n",
    "# 1. Train-test split\n",
    "x_train, x_test, y_train, y_test = train_test_split(\n",
    "    x, y, test_size=0.2, random_state=42\n",
    ")\n",
    "# 2. MultiLabelBinarizer\n",
    "mlb = MultiLabelBinarizer()\n",
    "train_encoded = pd.DataFrame(\n",
    "    mlb.fit_transform(x_train['fileextensions']),\n",
    "    columns=mlb.classes_,\n",
    "    index=x_train.index\n",
    ")\n",
    "# doing transform only on test data not fit \n",
    "test_encoded = pd.DataFrame(\n",
    "    mlb.transform(x_test['fileextensions']),\n",
    "    columns=mlb.classes_,\n",
    "    index=x_test.index\n",
    ")\n",
    "\n",
    "# 3. Concatenate encoded features\n",
    "x_train = pd.concat([x_train.drop(columns='fileextensions'), train_encoded], axis=1)\n",
    "x_test = pd.concat([x_test.drop(columns='fileextensions'), test_encoded], axis=1)\n"
   ]
  },
  {
   "cell_type": "code",
   "execution_count": 89,
   "id": "7cc96d6c-297d-48d8-8fc7-3d44d2f5c432",
   "metadata": {},
   "outputs": [],
   "source": [
    "# now applying one hot encoding on day , time and committype columns\n",
    "# One-hot encode 'day' , 'committype' and 'time'\n",
    "train_encoded = pd.get_dummies(x_train, columns=['day', 'time', 'committype'], dtype=int)\n",
    "test_encoded = pd.get_dummies(x_test, columns=['day', 'time', 'committype'], dtype=int)\n",
    "test_encoded = test_encoded.reindex(columns=train_encoded.columns, fill_value=0)\n",
    "x_train = train_encoded\n",
    "x_test = test_encoded"
   ]
  },
  {
   "cell_type": "code",
   "execution_count": 90,
   "id": "eec419e0-0add-4399-a266-67e901cd86e2",
   "metadata": {},
   "outputs": [
    {
     "name": "stderr",
     "output_type": "stream",
     "text": [
      "[nltk_data] Downloading package stopwords to C:\\Users\\UTKARSH\n",
      "[nltk_data]     ROY\\AppData\\Roaming\\nltk_data...\n",
      "[nltk_data]   Package stopwords is already up-to-date!\n"
     ]
    }
   ],
   "source": [
    "import nltk\n",
    "from nltk.corpus import stopwords\n",
    "from nltk.stem.porter import PorterStemmer\n",
    "import string\n",
    "nltk.download('stopwords')\n",
    "# Function to preprocess text\n",
    "def preprocess_text(text):\n",
    "    text = text.lower()\n",
    "    text = text.translate(str.maketrans('', '', string.punctuation))\n",
    "    corps = stopwords.words('english')\n",
    "    new_text = [' ' if i in corps else i for i in text.split()]\n",
    "    text = ' '.join(new_text)\n",
    "    ps = PorterStemmer()\n",
    "    text = ' '.join([ps.stem(word) for word in text.split()])\n",
    "    return text\n",
    "\n",
    "x_train['commitmessage'] = x_train['commitmessage'].apply(preprocess_text)\n",
    "x_test['commitmessage'] = x_test['commitmessage'].apply(preprocess_text)"
   ]
  },
  {
   "cell_type": "code",
   "execution_count": 91,
   "id": "fccb1e9d-4a80-493b-aed0-ce80c2733935",
   "metadata": {},
   "outputs": [],
   "source": [
    "from sklearn.feature_extraction.text import TfidfVectorizer\n",
    "tfidf = TfidfVectorizer()\n",
    "embed_train = tfidf.fit_transform(x_train['commitmessage'])\n",
    "embed_test = tfidf.transform(x_test['commitmessage'])"
   ]
  },
  {
   "cell_type": "code",
   "execution_count": 92,
   "id": "832df731-f423-4a80-9270-5525a97f537a",
   "metadata": {},
   "outputs": [],
   "source": [
    "train_embeddings=pd.DataFrame(embed_train.toarray())"
   ]
  },
  {
   "cell_type": "code",
   "execution_count": 93,
   "id": "630d9847-85d9-4b02-8630-2b85e7f39abc",
   "metadata": {},
   "outputs": [],
   "source": [
    "test_embeddings=pd.DataFrame(embed_test.toarray())"
   ]
  },
  {
   "cell_type": "code",
   "execution_count": 94,
   "id": "cb580ebc-5ebc-4a9d-a257-206d816bfb8b",
   "metadata": {},
   "outputs": [],
   "source": [
    "# Convert integer column names to strings\n",
    "train_embeddings.columns = train_embeddings.columns.map(str)\n",
    "# Convert integer column names to strings\n",
    "test_embeddings.columns = test_embeddings.columns.map(str)\n"
   ]
  },
  {
   "cell_type": "code",
   "execution_count": 95,
   "id": "a60bbddf-5322-4442-b34a-b88217db8963",
   "metadata": {},
   "outputs": [],
   "source": [
    "#x_test= pd.concat([x_test,test_embeddings],axis=1).drop(columns='commitmessage')\n",
    "#x_train= pd.concat([x_train,train_embeddings],axis=1).drop(columns='commitmessage')"
   ]
  },
  {
   "cell_type": "code",
   "execution_count": 96,
   "id": "1d3ccd5b-8df1-423e-8fbc-35bb3363aad9",
   "metadata": {},
   "outputs": [],
   "source": [
    "# Reset indices to align properly\n",
    "x_train = x_train.reset_index(drop=True)\n",
    "train_embeddings = train_embeddings.reset_index(drop=True)\n",
    "\n",
    "x_train = pd.concat([x_train, train_embeddings], axis=1).drop(columns=\"commitmessage\")\n",
    "\n",
    "x_test = x_test.reset_index(drop=True)\n",
    "test_embeddings = pd.DataFrame(embed_test.toarray()).reset_index(drop=True)\n",
    "\n",
    "x_test = pd.concat([x_test, test_embeddings], axis=1).drop(columns=\"commitmessage\")\n"
   ]
  },
  {
   "cell_type": "code",
   "execution_count": 97,
   "id": "1efd1af4-1767-4151-b6ec-5e354a1a638b",
   "metadata": {},
   "outputs": [],
   "source": [
    "x_train.columns = x_train.columns.astype(str)\n",
    "x_test.columns = x_test.columns.astype(str)\n"
   ]
  },
  {
   "cell_type": "code",
   "execution_count": 103,
   "id": "7ac1ca91-8aba-439f-b04e-3fba43f7c7ac",
   "metadata": {},
   "outputs": [
    {
     "data": {
      "text/html": [
       "<div>\n",
       "<style scoped>\n",
       "    .dataframe tbody tr th:only-of-type {\n",
       "        vertical-align: middle;\n",
       "    }\n",
       "\n",
       "    .dataframe tbody tr th {\n",
       "        vertical-align: top;\n",
       "    }\n",
       "\n",
       "    .dataframe thead th {\n",
       "        text-align: right;\n",
       "    }\n",
       "</style>\n",
       "<table border=\"1\" class=\"dataframe\">\n",
       "  <thead>\n",
       "    <tr style=\"text-align: right;\">\n",
       "      <th></th>\n",
       "      <th>numfileschanged</th>\n",
       "      <th>linesadded</th>\n",
       "      <th>linesdeleted</th>\n",
       "      <th>numcommentsadded</th>\n",
       "      <th>css</th>\n",
       "      <th>html</th>\n",
       "      <th>java_go</th>\n",
       "      <th>js_ts</th>\n",
       "      <th>md</th>\n",
       "      <th>py</th>\n",
       "      <th>...</th>\n",
       "      <th>821</th>\n",
       "      <th>822</th>\n",
       "      <th>823</th>\n",
       "      <th>824</th>\n",
       "      <th>825</th>\n",
       "      <th>826</th>\n",
       "      <th>827</th>\n",
       "      <th>828</th>\n",
       "      <th>829</th>\n",
       "      <th>830</th>\n",
       "    </tr>\n",
       "  </thead>\n",
       "  <tbody>\n",
       "    <tr>\n",
       "      <th>0</th>\n",
       "      <td>2</td>\n",
       "      <td>11</td>\n",
       "      <td>3</td>\n",
       "      <td>2</td>\n",
       "      <td>0</td>\n",
       "      <td>0</td>\n",
       "      <td>0</td>\n",
       "      <td>0</td>\n",
       "      <td>0</td>\n",
       "      <td>0</td>\n",
       "      <td>...</td>\n",
       "      <td>0.0</td>\n",
       "      <td>0.0</td>\n",
       "      <td>0.0</td>\n",
       "      <td>0.0</td>\n",
       "      <td>0.0</td>\n",
       "      <td>0.0</td>\n",
       "      <td>0.0</td>\n",
       "      <td>0.0</td>\n",
       "      <td>0.0</td>\n",
       "      <td>0.0</td>\n",
       "    </tr>\n",
       "    <tr>\n",
       "      <th>1</th>\n",
       "      <td>1</td>\n",
       "      <td>104</td>\n",
       "      <td>53</td>\n",
       "      <td>4</td>\n",
       "      <td>0</td>\n",
       "      <td>0</td>\n",
       "      <td>0</td>\n",
       "      <td>0</td>\n",
       "      <td>0</td>\n",
       "      <td>0</td>\n",
       "      <td>...</td>\n",
       "      <td>0.0</td>\n",
       "      <td>0.0</td>\n",
       "      <td>0.0</td>\n",
       "      <td>0.0</td>\n",
       "      <td>0.0</td>\n",
       "      <td>0.0</td>\n",
       "      <td>0.0</td>\n",
       "      <td>0.0</td>\n",
       "      <td>0.0</td>\n",
       "      <td>0.0</td>\n",
       "    </tr>\n",
       "    <tr>\n",
       "      <th>2</th>\n",
       "      <td>2</td>\n",
       "      <td>49</td>\n",
       "      <td>33</td>\n",
       "      <td>4</td>\n",
       "      <td>1</td>\n",
       "      <td>0</td>\n",
       "      <td>0</td>\n",
       "      <td>0</td>\n",
       "      <td>0</td>\n",
       "      <td>1</td>\n",
       "      <td>...</td>\n",
       "      <td>0.0</td>\n",
       "      <td>0.0</td>\n",
       "      <td>0.0</td>\n",
       "      <td>0.0</td>\n",
       "      <td>0.0</td>\n",
       "      <td>0.0</td>\n",
       "      <td>0.0</td>\n",
       "      <td>0.0</td>\n",
       "      <td>0.0</td>\n",
       "      <td>0.0</td>\n",
       "    </tr>\n",
       "    <tr>\n",
       "      <th>3</th>\n",
       "      <td>2</td>\n",
       "      <td>299</td>\n",
       "      <td>162</td>\n",
       "      <td>3</td>\n",
       "      <td>0</td>\n",
       "      <td>0</td>\n",
       "      <td>0</td>\n",
       "      <td>0</td>\n",
       "      <td>0</td>\n",
       "      <td>0</td>\n",
       "      <td>...</td>\n",
       "      <td>0.0</td>\n",
       "      <td>0.0</td>\n",
       "      <td>0.0</td>\n",
       "      <td>0.0</td>\n",
       "      <td>0.0</td>\n",
       "      <td>0.0</td>\n",
       "      <td>0.0</td>\n",
       "      <td>0.0</td>\n",
       "      <td>0.0</td>\n",
       "      <td>0.0</td>\n",
       "    </tr>\n",
       "    <tr>\n",
       "      <th>4</th>\n",
       "      <td>1</td>\n",
       "      <td>167</td>\n",
       "      <td>82</td>\n",
       "      <td>8</td>\n",
       "      <td>0</td>\n",
       "      <td>0</td>\n",
       "      <td>0</td>\n",
       "      <td>1</td>\n",
       "      <td>0</td>\n",
       "      <td>1</td>\n",
       "      <td>...</td>\n",
       "      <td>0.0</td>\n",
       "      <td>0.0</td>\n",
       "      <td>0.0</td>\n",
       "      <td>0.0</td>\n",
       "      <td>0.0</td>\n",
       "      <td>0.0</td>\n",
       "      <td>0.0</td>\n",
       "      <td>0.0</td>\n",
       "      <td>0.0</td>\n",
       "      <td>0.0</td>\n",
       "    </tr>\n",
       "    <tr>\n",
       "      <th>...</th>\n",
       "      <td>...</td>\n",
       "      <td>...</td>\n",
       "      <td>...</td>\n",
       "      <td>...</td>\n",
       "      <td>...</td>\n",
       "      <td>...</td>\n",
       "      <td>...</td>\n",
       "      <td>...</td>\n",
       "      <td>...</td>\n",
       "      <td>...</td>\n",
       "      <td>...</td>\n",
       "      <td>...</td>\n",
       "      <td>...</td>\n",
       "      <td>...</td>\n",
       "      <td>...</td>\n",
       "      <td>...</td>\n",
       "      <td>...</td>\n",
       "      <td>...</td>\n",
       "      <td>...</td>\n",
       "      <td>...</td>\n",
       "      <td>...</td>\n",
       "    </tr>\n",
       "    <tr>\n",
       "      <th>1195</th>\n",
       "      <td>7</td>\n",
       "      <td>90</td>\n",
       "      <td>14</td>\n",
       "      <td>7</td>\n",
       "      <td>0</td>\n",
       "      <td>0</td>\n",
       "      <td>0</td>\n",
       "      <td>0</td>\n",
       "      <td>0</td>\n",
       "      <td>1</td>\n",
       "      <td>...</td>\n",
       "      <td>0.0</td>\n",
       "      <td>0.0</td>\n",
       "      <td>0.0</td>\n",
       "      <td>0.0</td>\n",
       "      <td>0.0</td>\n",
       "      <td>0.0</td>\n",
       "      <td>0.0</td>\n",
       "      <td>0.0</td>\n",
       "      <td>0.0</td>\n",
       "      <td>0.0</td>\n",
       "    </tr>\n",
       "    <tr>\n",
       "      <th>1196</th>\n",
       "      <td>1</td>\n",
       "      <td>119</td>\n",
       "      <td>62</td>\n",
       "      <td>4</td>\n",
       "      <td>0</td>\n",
       "      <td>0</td>\n",
       "      <td>1</td>\n",
       "      <td>0</td>\n",
       "      <td>0</td>\n",
       "      <td>0</td>\n",
       "      <td>...</td>\n",
       "      <td>0.0</td>\n",
       "      <td>0.0</td>\n",
       "      <td>0.0</td>\n",
       "      <td>0.0</td>\n",
       "      <td>0.0</td>\n",
       "      <td>0.0</td>\n",
       "      <td>0.0</td>\n",
       "      <td>0.0</td>\n",
       "      <td>0.0</td>\n",
       "      <td>0.0</td>\n",
       "    </tr>\n",
       "    <tr>\n",
       "      <th>1197</th>\n",
       "      <td>1</td>\n",
       "      <td>39</td>\n",
       "      <td>14</td>\n",
       "      <td>2</td>\n",
       "      <td>0</td>\n",
       "      <td>0</td>\n",
       "      <td>0</td>\n",
       "      <td>0</td>\n",
       "      <td>0</td>\n",
       "      <td>0</td>\n",
       "      <td>...</td>\n",
       "      <td>0.0</td>\n",
       "      <td>0.0</td>\n",
       "      <td>0.0</td>\n",
       "      <td>0.0</td>\n",
       "      <td>0.0</td>\n",
       "      <td>0.0</td>\n",
       "      <td>0.0</td>\n",
       "      <td>0.0</td>\n",
       "      <td>0.0</td>\n",
       "      <td>0.0</td>\n",
       "    </tr>\n",
       "    <tr>\n",
       "      <th>1198</th>\n",
       "      <td>1</td>\n",
       "      <td>20</td>\n",
       "      <td>2</td>\n",
       "      <td>0</td>\n",
       "      <td>0</td>\n",
       "      <td>0</td>\n",
       "      <td>0</td>\n",
       "      <td>0</td>\n",
       "      <td>0</td>\n",
       "      <td>0</td>\n",
       "      <td>...</td>\n",
       "      <td>0.0</td>\n",
       "      <td>0.0</td>\n",
       "      <td>0.0</td>\n",
       "      <td>0.0</td>\n",
       "      <td>0.0</td>\n",
       "      <td>0.0</td>\n",
       "      <td>0.0</td>\n",
       "      <td>0.0</td>\n",
       "      <td>0.0</td>\n",
       "      <td>0.0</td>\n",
       "    </tr>\n",
       "    <tr>\n",
       "      <th>1199</th>\n",
       "      <td>1</td>\n",
       "      <td>25</td>\n",
       "      <td>19</td>\n",
       "      <td>0</td>\n",
       "      <td>1</td>\n",
       "      <td>0</td>\n",
       "      <td>0</td>\n",
       "      <td>1</td>\n",
       "      <td>0</td>\n",
       "      <td>0</td>\n",
       "      <td>...</td>\n",
       "      <td>0.0</td>\n",
       "      <td>0.0</td>\n",
       "      <td>0.0</td>\n",
       "      <td>0.0</td>\n",
       "      <td>0.0</td>\n",
       "      <td>0.0</td>\n",
       "      <td>0.0</td>\n",
       "      <td>0.0</td>\n",
       "      <td>0.0</td>\n",
       "      <td>0.0</td>\n",
       "    </tr>\n",
       "  </tbody>\n",
       "</table>\n",
       "<p>1200 rows × 860 columns</p>\n",
       "</div>"
      ],
      "text/plain": [
       "      numfileschanged  linesadded  linesdeleted  numcommentsadded  css  html  \\\n",
       "0                   2          11             3                 2    0     0   \n",
       "1                   1         104            53                 4    0     0   \n",
       "2                   2          49            33                 4    1     0   \n",
       "3                   2         299           162                 3    0     0   \n",
       "4                   1         167            82                 8    0     0   \n",
       "...               ...         ...           ...               ...  ...   ...   \n",
       "1195                7          90            14                 7    0     0   \n",
       "1196                1         119            62                 4    0     0   \n",
       "1197                1          39            14                 2    0     0   \n",
       "1198                1          20             2                 0    0     0   \n",
       "1199                1          25            19                 0    1     0   \n",
       "\n",
       "      java_go  js_ts  md  py  ...  821  822  823  824  825  826  827  828  \\\n",
       "0           0      0   0   0  ...  0.0  0.0  0.0  0.0  0.0  0.0  0.0  0.0   \n",
       "1           0      0   0   0  ...  0.0  0.0  0.0  0.0  0.0  0.0  0.0  0.0   \n",
       "2           0      0   0   1  ...  0.0  0.0  0.0  0.0  0.0  0.0  0.0  0.0   \n",
       "3           0      0   0   0  ...  0.0  0.0  0.0  0.0  0.0  0.0  0.0  0.0   \n",
       "4           0      1   0   1  ...  0.0  0.0  0.0  0.0  0.0  0.0  0.0  0.0   \n",
       "...       ...    ...  ..  ..  ...  ...  ...  ...  ...  ...  ...  ...  ...   \n",
       "1195        0      0   0   1  ...  0.0  0.0  0.0  0.0  0.0  0.0  0.0  0.0   \n",
       "1196        1      0   0   0  ...  0.0  0.0  0.0  0.0  0.0  0.0  0.0  0.0   \n",
       "1197        0      0   0   0  ...  0.0  0.0  0.0  0.0  0.0  0.0  0.0  0.0   \n",
       "1198        0      0   0   0  ...  0.0  0.0  0.0  0.0  0.0  0.0  0.0  0.0   \n",
       "1199        0      1   0   0  ...  0.0  0.0  0.0  0.0  0.0  0.0  0.0  0.0   \n",
       "\n",
       "      829  830  \n",
       "0     0.0  0.0  \n",
       "1     0.0  0.0  \n",
       "2     0.0  0.0  \n",
       "3     0.0  0.0  \n",
       "4     0.0  0.0  \n",
       "...   ...  ...  \n",
       "1195  0.0  0.0  \n",
       "1196  0.0  0.0  \n",
       "1197  0.0  0.0  \n",
       "1198  0.0  0.0  \n",
       "1199  0.0  0.0  \n",
       "\n",
       "[1200 rows x 860 columns]"
      ]
     },
     "execution_count": 103,
     "metadata": {},
     "output_type": "execute_result"
    }
   ],
   "source": [
    "x_train"
   ]
  },
  {
   "cell_type": "code",
   "execution_count": 98,
   "id": "92147050-caf7-41da-9bda-9a9481bb53b9",
   "metadata": {},
   "outputs": [
    {
     "name": "stderr",
     "output_type": "stream",
     "text": [
      "C:\\Users\\UTKARSH ROY\\miniconda3\\Lib\\site-packages\\sklearn\\linear_model\\_logistic.py:1272: FutureWarning: 'multi_class' was deprecated in version 1.5 and will be removed in 1.7. From then on, it will always use 'multinomial'. Leave it to its default value to avoid this warning.\n",
      "  warnings.warn(\n"
     ]
    },
    {
     "name": "stdout",
     "output_type": "stream",
     "text": [
      "Logistic Regression Accuracy: 0.94\n",
      "Logistic Regression F1 Score: 0.9305192244495564\n"
     ]
    },
    {
     "name": "stderr",
     "output_type": "stream",
     "text": [
      "C:\\Users\\UTKARSH ROY\\miniconda3\\Lib\\site-packages\\sklearn\\linear_model\\_logistic.py:473: ConvergenceWarning: lbfgs failed to converge after 500 iteration(s) (status=1):\n",
      "STOP: TOTAL NO. OF ITERATIONS REACHED LIMIT\n",
      "\n",
      "Increase the number of iterations to improve the convergence (max_iter=500).\n",
      "You might also want to scale the data as shown in:\n",
      "    https://scikit-learn.org/stable/modules/preprocessing.html\n",
      "Please also refer to the documentation for alternative solver options:\n",
      "    https://scikit-learn.org/stable/modules/linear_model.html#logistic-regression\n",
      "  n_iter_i = _check_optimize_result(\n"
     ]
    },
    {
     "data": {
      "text/plain": [
       "' A decent accuracy can be observed from this'"
      ]
     },
     "execution_count": 98,
     "metadata": {},
     "output_type": "execute_result"
    }
   ],
   "source": [
    "'''now comes the model selection for prediction'''\n",
    "# the starting baseline started with prediction using the softmax classifiation , simply on the basis of probability and the cross\n",
    "#entropy loss function we use to determine the classification in this.\n",
    "# this came in mind as this is the most basic that can be applied to a multi class classifiation that is expected to get results\n",
    "'''the metric for evaluation used is the accuracy score and the macro f1 score\n",
    "the accuracy score simply tells how many are correctly classified from all\n",
    "then f1 score is a tradeoff between the precision and reacall , precision tries to reduce the number of false positives and recall\n",
    "wants less number of false negatives , the f1 score manages the two and is high inly when both are high, f1 score is basically the \n",
    "harmonic mean of the two quantities.\n",
    "the macro f1 score means average of f1 score of all the classes.\n",
    "'''\n",
    "\n",
    "\n",
    "''' training the most basline logistic regression model in this. the softmax regression is the most basic for multiclass classification.\n",
    "This came in mind because of the multi lass classification\n",
    "'''\n",
    "# Train and evaluate models\n",
    "clf = LogisticRegression(multi_class='multinomial', solver='lbfgs', max_iter=500)\n",
    "clf.fit(x_train, y_train)\n",
    "y_pred = clf.predict(x_test)\n",
    "print(\"Logistic Regression Accuracy:\", accuracy_score(y_test, y_pred))\n",
    "print(\"Logistic Regression F1 Score:\", f1_score(y_test, y_pred, average='macro'))\n",
    "\n",
    "''' A decent accuracy can be observed from this'''"
   ]
  },
  {
   "cell_type": "code",
   "execution_count": 104,
   "id": "c591255a-8d84-4519-b2fc-33c6717873ea",
   "metadata": {},
   "outputs": [
    {
     "data": {
      "image/png": "[encoded data removed]",
      "text/plain": [
       "<Figure size 800x600 with 2 Axes>"
      ]
     },
     "metadata": {},
     "output_type": "display_data"
    },
    {
     "name": "stdout",
     "output_type": "stream",
     "text": [
      "Classification Report:\n",
      "              precision    recall  f1-score   support\n",
      "\n",
      "     backend       0.98      1.00      0.99        86\n",
      "    frontend       0.93      0.98      0.96        87\n",
      "   fullstack       0.96      0.89      0.92        55\n",
      "          qa       1.00      0.97      0.99        72\n",
      "\n",
      "    accuracy                           0.97       300\n",
      "   macro avg       0.97      0.96      0.96       300\n",
      "weighted avg       0.97      0.97      0.97       300\n",
      "\n"
     ]
    }
   ],
   "source": [
    "from sklearn.metrics import confusion_matrix, classification_report\n",
    "import seaborn as sns\n",
    "import matplotlib.pyplot as plt\n",
    "\n",
    "# Confusion Matrix\n",
    "cm = confusion_matrix(y_test, y_pred)\n",
    "\n",
    "plt.figure(figsize=(8,6))\n",
    "sns.heatmap(cm, annot=True, fmt='d', cmap=\"Blues\", \n",
    "            xticklabels=clf.classes_, yticklabels=clf.classes_)\n",
    "plt.xlabel(\"Predicted\")\n",
    "plt.ylabel(\"Actual\")\n",
    "plt.title(\"Confusion Matrix\")\n",
    "plt.show()\n",
    "\n",
    "# Precision, Recall, F1 per class\n",
    "print(\"Classification Report:\")\n",
    "print(classification_report(y_test, y_pred))\n"
   ]
  },
  {
   "cell_type": "code",
   "execution_count": 99,
   "id": "7c5fad34-ba58-4a3e-88e0-7bbf374fb1a7",
   "metadata": {},
   "outputs": [
    {
     "name": "stdout",
     "output_type": "stream",
     "text": [
      "Decision Tree Accuracy: 0.94\n",
      "Decision Tree F1 Score: 0.9305192244495564\n"
     ]
    },
    {
     "data": {
      "text/plain": [
       "'but as per the scores it can be seen that the decision tree classifier is performing exactly same as  logistic regression'"
      ]
     },
     "execution_count": 99,
     "metadata": {},
     "output_type": "execute_result"
    }
   ],
   "source": [
    "# now trying to use decision tree as it is a better model compare to softmax regression for multiclass classification as \n",
    "# splitting is done better in case of decision tree \n",
    "# Train and evaluate Decision Tree Classifier\n",
    "clf_dt = DecisionTreeClassifier(random_state=42)   # you can tune max_depth, min_samples_split, etc.\n",
    "clf_dt.fit(x_train, y_train)\n",
    "y_pred = clf.predict(x_test)\n",
    "\n",
    "print(\"Decision Tree Accuracy:\", accuracy_score(y_test, y_pred))\n",
    "print(\"Decision Tree F1 Score:\", f1_score(y_test, y_pred, average='macro'))\n",
    "\n",
    "'''but as per the scores it can be seen that the decision tree classifier is performing exactly same as  logistic regression'''\n"
   ]
  },
  {
   "cell_type": "code",
   "execution_count": 106,
   "id": "249ed2fc-768f-4e5d-bb2d-4434414e96db",
   "metadata": {},
   "outputs": [
    {
     "data": {
      "image/png": "[encoded data removed]",
      "text/plain": [
       "<Figure size 800x600 with 2 Axes>"
      ]
     },
     "metadata": {},
     "output_type": "display_data"
    },
    {
     "name": "stdout",
     "output_type": "stream",
     "text": [
      "Classification Report for Decision Tree:\n",
      "              precision    recall  f1-score   support\n",
      "\n",
      "     backend       0.98      1.00      0.99        86\n",
      "    frontend       0.93      0.98      0.96        87\n",
      "   fullstack       0.96      0.89      0.92        55\n",
      "          qa       1.00      0.97      0.99        72\n",
      "\n",
      "    accuracy                           0.97       300\n",
      "   macro avg       0.97      0.96      0.96       300\n",
      "weighted avg       0.97      0.97      0.97       300\n",
      "\n"
     ]
    }
   ],
   "source": [
    "from sklearn.metrics import confusion_matrix, classification_report\n",
    "import seaborn as sns\n",
    "import matplotlib.pyplot as plt\n",
    "\n",
    "# Confusion Matrix\n",
    "cm = confusion_matrix(y_test, y_pred)\n",
    "\n",
    "plt.figure(figsize=(8,6))\n",
    "sns.heatmap(cm, annot=True, fmt='d', cmap=\"Blues\", \n",
    "            xticklabels=clf_dt.classes_, yticklabels=clf_dt.classes_)\n",
    "plt.xlabel(\"Predicted\")\n",
    "plt.ylabel(\"Actual\")\n",
    "plt.title(\"Decision Tree - Confusion Matrix\")\n",
    "plt.show()\n",
    "\n",
    "# Precision, Recall, F1 per class\n",
    "print(\"Classification Report for Decision Tree:\")\n",
    "print(classification_report(y_test, y_pred))\n"
   ]
  },
  {
   "cell_type": "code",
   "execution_count": 100,
   "id": "302f2a80-97a3-475a-b56b-28c44061b201",
   "metadata": {},
   "outputs": [
    {
     "name": "stdout",
     "output_type": "stream",
     "text": [
      "Fitting 5 folds for each of 720 candidates, totalling 3600 fits\n",
      "Best Parameters: {'criterion': 'entropy', 'max_depth': None, 'max_features': None, 'min_samples_leaf': 2, 'min_samples_split': 5}\n",
      "Decision Tree Accuracy: 0.9666666666666667\n",
      "Decision Tree F1 Score: 0.9635014304365642\n"
     ]
    },
    {
     "data": {
      "text/plain": [
       "'  after the hyperparamter tuning the decision tree accuracy has become much better'"
      ]
     },
     "execution_count": 100,
     "metadata": {},
     "output_type": "execute_result"
    }
   ],
   "source": [
    "# Define the parameter grid for tuning\n",
    "param_grid = {\n",
    "    'criterion': ['gini', 'entropy', 'log_loss'],  # impurity measures\n",
    "    'max_depth': [None, 5, 10, 20, 30],  # depth of the tree\n",
    "    'min_samples_split': [2, 5, 10, 20],  # minimum samples to split a node\n",
    "    'min_samples_leaf': [1, 2, 5, 10],    # minimum samples in a leaf node\n",
    "    'max_features': [None, 'sqrt', 'log2']  # number of features considered per split\n",
    "}\n",
    "\n",
    "# Initialize base model\n",
    "clf_tuned = DecisionTreeClassifier(random_state=42)\n",
    "\n",
    "# Grid search with 5-fold CV\n",
    "grid_search = GridSearchCV(\n",
    "    estimator=clf_tuned,\n",
    "    param_grid=param_grid,\n",
    "    cv=5,\n",
    "    scoring='f1_macro',   \n",
    "    n_jobs=-1,            \n",
    "    verbose=2\n",
    ")\n",
    "\n",
    "# Fit grid search\n",
    "grid_search.fit(x_train, y_train)\n",
    "\n",
    "# Best model\n",
    "best_clf = grid_search.best_estimator_\n",
    "print(\"Best Parameters:\", grid_search.best_params_)\n",
    "\n",
    "# Predictions\n",
    "y_pred = best_clf.predict(x_test)\n",
    "print(\"Decision Tree Accuracy:\", accuracy_score(y_test, y_pred))\n",
    "print(\"Decision Tree F1 Score:\", f1_score(y_test, y_pred, average='macro'))\n",
    "\n",
    "\n",
    "'''  after the hyperparamter tuning the decision tree accuracy has become much better'''"
   ]
  },
  {
   "cell_type": "code",
   "execution_count": 107,
   "id": "b6544059-c2a0-41c9-b24f-a14b629941e7",
   "metadata": {},
   "outputs": [
    {
     "data": {
      "image/png": "[encoded data removed]",
      "text/plain": [
       "<Figure size 800x600 with 2 Axes>"
      ]
     },
     "metadata": {},
     "output_type": "display_data"
    },
    {
     "name": "stdout",
     "output_type": "stream",
     "text": [
      "Classification Report for Tuned Decision Tree:\n",
      "              precision    recall  f1-score   support\n",
      "\n",
      "     backend       0.98      1.00      0.99        86\n",
      "    frontend       0.93      0.98      0.96        87\n",
      "   fullstack       0.96      0.89      0.92        55\n",
      "          qa       1.00      0.97      0.99        72\n",
      "\n",
      "    accuracy                           0.97       300\n",
      "   macro avg       0.97      0.96      0.96       300\n",
      "weighted avg       0.97      0.97      0.97       300\n",
      "\n"
     ]
    }
   ],
   "source": [
    "from sklearn.metrics import confusion_matrix, classification_report\n",
    "import seaborn as sns\n",
    "import matplotlib.pyplot as plt\n",
    "\n",
    "# Confusion Matrix for tuned model\n",
    "cm = confusion_matrix(y_test, y_pred)\n",
    "\n",
    "plt.figure(figsize=(8,6))\n",
    "sns.heatmap(cm, annot=True, fmt='d', cmap=\"Greens\", \n",
    "            xticklabels=best_clf.classes_, yticklabels=best_clf.classes_)\n",
    "plt.xlabel(\"Predicted\")\n",
    "plt.ylabel(\"Actual\")\n",
    "plt.title(\"Tuned Decision Tree - Confusion Matrix\")\n",
    "plt.show()\n",
    "\n",
    "# Classification Report\n",
    "print(\"Classification Report for Tuned Decision Tree:\")\n",
    "print(classification_report(y_test, y_pred))\n"
   ]
  },
  {
   "cell_type": "code",
   "execution_count": 102,
   "id": "95945110-cc8f-429d-9673-347979d4d891",
   "metadata": {},
   "outputs": [
    {
     "name": "stdout",
     "output_type": "stream",
     "text": [
      "Random Forest Accuracy: 0.9733333333333334\n",
      "Random Forest F1 Score: 0.9694031458737341\n"
     ]
    },
    {
     "data": {
      "text/plain": [
       "'bagging is the better choice because  problem is one of variance, not bias. \\nBoosting algorithms excel at fixing bias, and applying them here would be the wrong tool for the job, likely leading to \\nsignificant overfitting.\\nThe patterns are clear and the material is relatively easy for them (low bias). They get 95% of the questions right on their own. \\nThe main risk is that they \\nmight overthink a tricky question or get confused by a weirdly phrased one (high variance).\\n'"
      ]
     },
     "execution_count": 102,
     "metadata": {},
     "output_type": "execute_result"
    }
   ],
   "source": [
    "'''Now as a improvement to decision trees and softmax we introduce the random forest'''\n",
    "rf = RandomForestClassifier(random_state=42)\n",
    "rf.fit(x_train, y_train)\n",
    "y_rf_pred = rf.predict(x_test)\n",
    "print(\"Random Forest Accuracy:\", accuracy_score(y_test, y_rf_pred))\n",
    "print(\"Random Forest F1 Score:\", f1_score(y_test, y_rf_pred, average='macro'))\n",
    "'''bagging is the better choice because  problem is one of variance, not bias. \n",
    "Boosting algorithms excel at fixing bias, and applying them here would be the wrong tool for the job, likely leading to \n",
    "significant overfitting.\n",
    "The patterns are clear and the material is relatively easy for them (low bias). They get 95% of the questions right on their own. \n",
    "The main risk is that they \n",
    "might overthink a tricky question or get confused by a weirdly phrased one (high variance).\n",
    "'''"
   ]
  },
  {
   "cell_type": "code",
   "execution_count": 108,
   "id": "0544802e-8b0f-46d6-ab1c-b7e6e57ab382",
   "metadata": {},
   "outputs": [
    {
     "data": {
      "image/png": "[encoded data removed]",
      "text/plain": [
       "<Figure size 800x600 with 2 Axes>"
      ]
     },
     "metadata": {},
     "output_type": "display_data"
    },
    {
     "name": "stdout",
     "output_type": "stream",
     "text": [
      "Classification Report for Random Forest:\n",
      "              precision    recall  f1-score   support\n",
      "\n",
      "     backend       1.00      1.00      1.00        86\n",
      "    frontend       0.92      1.00      0.96        87\n",
      "   fullstack       1.00      0.85      0.92        55\n",
      "          qa       1.00      1.00      1.00        72\n",
      "\n",
      "    accuracy                           0.97       300\n",
      "   macro avg       0.98      0.96      0.97       300\n",
      "weighted avg       0.98      0.97      0.97       300\n",
      "\n"
     ]
    }
   ],
   "source": [
    "from sklearn.metrics import confusion_matrix, classification_report\n",
    "import seaborn as sns\n",
    "import matplotlib.pyplot as plt\n",
    "\n",
    "# Confusion Matrix for Random Forest\n",
    "cm = confusion_matrix(y_test, y_rf_pred)\n",
    "\n",
    "plt.figure(figsize=(8,6))\n",
    "sns.heatmap(cm, annot=True, fmt='d', cmap=\"Oranges\", \n",
    "            xticklabels=rf.classes_, yticklabels=rf.classes_)\n",
    "plt.xlabel(\"Predicted\")\n",
    "plt.ylabel(\"Actual\")\n",
    "plt.title(\"Random Forest - Confusion Matrix\")\n",
    "plt.show()\n",
    "\n",
    "# Classification Report\n",
    "print(\"Classification Report for Random Forest:\")\n",
    "print(classification_report(y_test, y_rf_pred))\n"
   ]
  }
 ],
 "metadata": {
  "kernelspec": {
   "display_name": "Python 3 (ipykernel)",
   "language": "python",
   "name": "python3"
  },
  "language_info": {
   "codemirror_mode": {
    "name": "ipython",
    "version": 3
   },
   "file_extension": ".py",
   "mimetype": "text/x-python",
   "name": "python",
   "nbconvert_exporter": "python",
   "pygments_lexer": "ipython3",
   "version": "3.13.5"
  }
 },
 "nbformat": 4,
 "nbformat_minor": 5
}
